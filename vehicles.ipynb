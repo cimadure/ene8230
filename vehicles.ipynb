{
 "cells": [
  {
   "cell_type": "markdown",
   "source": [
    "source: of data : https://www.donneesquebec.ca/recherche/dataset/vehicules-en-circulation/resource/f8f2865a-b33c-4e8f-828c-9b28188691a2\n",
    "\n",
    "description des variables aussi dans la page.\n",
    "lien direct: https://www.donneesquebec.ca/recherche/dataset/4aea7984-10ec-4d4f-80e4-5bb9a0006996/resource/00ea3ac1-da3c-4ece-aa8c-a2e88529447b/download/vehicules-circulation-documentation.pdf\n"
   ],
   "metadata": {
    "collapsed": false
   }
  },
  {
   "cell_type": "code",
   "execution_count": null,
   "outputs": [],
   "source": [
    "#!conda install -c conda-forge python-docx"
   ],
   "metadata": {
    "collapsed": false
   }
  },
  {
   "cell_type": "code",
   "execution_count": 44,
   "outputs": [],
   "source": [
    "import pandas as pd\n",
    "from docx import Document # Install it or hide it\n",
    "from pathlib import Path\n",
    "from IPython.display import display"
   ],
   "metadata": {
    "collapsed": false
   }
  },
  {
   "cell_type": "code",
   "execution_count": 45,
   "outputs": [],
   "source": [
    "filename = 'Vehicule-en-circulation-2021.csv'\n",
    "save_dir = 'media'"
   ],
   "metadata": {
    "collapsed": false
   }
  },
  {
   "cell_type": "code",
   "execution_count": 13,
   "outputs": [],
   "source": [
    "df = pd.read_csv(filename,dtype={'AN':int,'ANNEE_MOD':\"Int64\"})"
   ],
   "metadata": {
    "collapsed": false
   }
  },
  {
   "cell_type": "code",
   "execution_count": 33,
   "outputs": [
    {
     "data": {
      "text/plain": "        AN        NOSEQ_VEH CLAS TYP_VEH_CATEG_USA MARQ_VEH MODEL_VEH  \\\n11    2021  2021_0000000012  PAU                AU    CHEVR      BOLT   \n1626  2021  2021_0000001627  PAU                AU    TESLA     MODEL   \n1759  2021  2021_0000001760  PAU                AU    CHEVR      BOLT   \n2519  2021  2021_0000002520  PAU                AU    TESLA     MODEL   \n3839  2021  2021_0000003840  PAU                AU      KIA      SOUL   \n\n      ANNEE_MOD  MASSE_NETTE  NB_CYL  CYL_VEH  NB_ESIEU_MAX COUL_ORIG  \\\n11         2020       1637.0     NaN      NaN           NaN       NOI   \n1626       2021       1640.0     NaN      NaN           NaN       NOI   \n1759       2020       1637.0     NaN      NaN           NaN       GRI   \n2519       2021       1640.0     NaN      NaN           NaN       GRI   \n3839       2021       1754.0     NaN      NaN           NaN       BLA   \n\n     TYP_CARBU TYP_DOSS_PERS PHYS_SEX  PHYS_AGE        REG_ADM  \\\n11           L             P        F      37.0  Montréal (06)   \n1626         L             P        M      57.0  Montréal (06)   \n1759         L             P        F      67.0  Montréal (06)   \n2519         L             M      NaN       NaN  Montréal (06)   \n3839         L             M      NaN       NaN  Montréal (06)   \n\n                 MRC  CG_FIXE  \n11    Montréal (66 )  66023.0  \n1626  Montréal (66 )  66023.0  \n1759  Montréal (66 )  66023.0  \n2519  Montréal (66 )  66023.0  \n3839  Montréal (66 )  66023.0  ",
      "text/html": "<div>\n<style scoped>\n    .dataframe tbody tr th:only-of-type {\n        vertical-align: middle;\n    }\n\n    .dataframe tbody tr th {\n        vertical-align: top;\n    }\n\n    .dataframe thead th {\n        text-align: right;\n    }\n</style>\n<table border=\"1\" class=\"dataframe\">\n  <thead>\n    <tr style=\"text-align: right;\">\n      <th></th>\n      <th>AN</th>\n      <th>NOSEQ_VEH</th>\n      <th>CLAS</th>\n      <th>TYP_VEH_CATEG_USA</th>\n      <th>MARQ_VEH</th>\n      <th>MODEL_VEH</th>\n      <th>ANNEE_MOD</th>\n      <th>MASSE_NETTE</th>\n      <th>NB_CYL</th>\n      <th>CYL_VEH</th>\n      <th>NB_ESIEU_MAX</th>\n      <th>COUL_ORIG</th>\n      <th>TYP_CARBU</th>\n      <th>TYP_DOSS_PERS</th>\n      <th>PHYS_SEX</th>\n      <th>PHYS_AGE</th>\n      <th>REG_ADM</th>\n      <th>MRC</th>\n      <th>CG_FIXE</th>\n    </tr>\n  </thead>\n  <tbody>\n    <tr>\n      <th>11</th>\n      <td>2021</td>\n      <td>2021_0000000012</td>\n      <td>PAU</td>\n      <td>AU</td>\n      <td>CHEVR</td>\n      <td>BOLT</td>\n      <td>2020</td>\n      <td>1637.0</td>\n      <td>NaN</td>\n      <td>NaN</td>\n      <td>NaN</td>\n      <td>NOI</td>\n      <td>L</td>\n      <td>P</td>\n      <td>F</td>\n      <td>37.0</td>\n      <td>Montréal (06)</td>\n      <td>Montréal (66 )</td>\n      <td>66023.0</td>\n    </tr>\n    <tr>\n      <th>1626</th>\n      <td>2021</td>\n      <td>2021_0000001627</td>\n      <td>PAU</td>\n      <td>AU</td>\n      <td>TESLA</td>\n      <td>MODEL</td>\n      <td>2021</td>\n      <td>1640.0</td>\n      <td>NaN</td>\n      <td>NaN</td>\n      <td>NaN</td>\n      <td>NOI</td>\n      <td>L</td>\n      <td>P</td>\n      <td>M</td>\n      <td>57.0</td>\n      <td>Montréal (06)</td>\n      <td>Montréal (66 )</td>\n      <td>66023.0</td>\n    </tr>\n    <tr>\n      <th>1759</th>\n      <td>2021</td>\n      <td>2021_0000001760</td>\n      <td>PAU</td>\n      <td>AU</td>\n      <td>CHEVR</td>\n      <td>BOLT</td>\n      <td>2020</td>\n      <td>1637.0</td>\n      <td>NaN</td>\n      <td>NaN</td>\n      <td>NaN</td>\n      <td>GRI</td>\n      <td>L</td>\n      <td>P</td>\n      <td>F</td>\n      <td>67.0</td>\n      <td>Montréal (06)</td>\n      <td>Montréal (66 )</td>\n      <td>66023.0</td>\n    </tr>\n    <tr>\n      <th>2519</th>\n      <td>2021</td>\n      <td>2021_0000002520</td>\n      <td>PAU</td>\n      <td>AU</td>\n      <td>TESLA</td>\n      <td>MODEL</td>\n      <td>2021</td>\n      <td>1640.0</td>\n      <td>NaN</td>\n      <td>NaN</td>\n      <td>NaN</td>\n      <td>GRI</td>\n      <td>L</td>\n      <td>M</td>\n      <td>NaN</td>\n      <td>NaN</td>\n      <td>Montréal (06)</td>\n      <td>Montréal (66 )</td>\n      <td>66023.0</td>\n    </tr>\n    <tr>\n      <th>3839</th>\n      <td>2021</td>\n      <td>2021_0000003840</td>\n      <td>PAU</td>\n      <td>AU</td>\n      <td>KIA</td>\n      <td>SOUL</td>\n      <td>2021</td>\n      <td>1754.0</td>\n      <td>NaN</td>\n      <td>NaN</td>\n      <td>NaN</td>\n      <td>BLA</td>\n      <td>L</td>\n      <td>M</td>\n      <td>NaN</td>\n      <td>NaN</td>\n      <td>Montréal (06)</td>\n      <td>Montréal (66 )</td>\n      <td>66023.0</td>\n    </tr>\n  </tbody>\n</table>\n</div>"
     },
     "execution_count": 33,
     "metadata": {},
     "output_type": "execute_result"
    }
   ],
   "source": [
    "ev = df[(df['TYP_CARBU'] == 'L') & (df['REG_ADM']=='Montréal (06)') & (df['CLAS']=='PAU')]\n",
    "ev.head()"
   ],
   "metadata": {
    "collapsed": false
   }
  },
  {
   "cell_type": "code",
   "execution_count": 62,
   "outputs": [
    {
     "data": {
      "text/plain": "  MARQ_VEH MODEL_VEH  Quantité\n0    TESLA     MODEL      3987\n1    NISSA      LEAF      1078\n2    CHEVR      BOLT       846\n3    HYUND      KONA       749\n4    TESLA         S       468\n5    HYUND     IONIQ       350\n6      KIA      SOUL       317\n7    VOLKS     E-GOL       304\n8    TESLA         X       255\n9      KIA      NIRO       198",
      "text/html": "<div>\n<style scoped>\n    .dataframe tbody tr th:only-of-type {\n        vertical-align: middle;\n    }\n\n    .dataframe tbody tr th {\n        vertical-align: top;\n    }\n\n    .dataframe thead th {\n        text-align: right;\n    }\n</style>\n<table border=\"1\" class=\"dataframe\">\n  <thead>\n    <tr style=\"text-align: right;\">\n      <th></th>\n      <th>MARQ_VEH</th>\n      <th>MODEL_VEH</th>\n      <th>Quantité</th>\n    </tr>\n  </thead>\n  <tbody>\n    <tr>\n      <th>0</th>\n      <td>TESLA</td>\n      <td>MODEL</td>\n      <td>3987</td>\n    </tr>\n    <tr>\n      <th>1</th>\n      <td>NISSA</td>\n      <td>LEAF</td>\n      <td>1078</td>\n    </tr>\n    <tr>\n      <th>2</th>\n      <td>CHEVR</td>\n      <td>BOLT</td>\n      <td>846</td>\n    </tr>\n    <tr>\n      <th>3</th>\n      <td>HYUND</td>\n      <td>KONA</td>\n      <td>749</td>\n    </tr>\n    <tr>\n      <th>4</th>\n      <td>TESLA</td>\n      <td>S</td>\n      <td>468</td>\n    </tr>\n    <tr>\n      <th>5</th>\n      <td>HYUND</td>\n      <td>IONIQ</td>\n      <td>350</td>\n    </tr>\n    <tr>\n      <th>6</th>\n      <td>KIA</td>\n      <td>SOUL</td>\n      <td>317</td>\n    </tr>\n    <tr>\n      <th>7</th>\n      <td>VOLKS</td>\n      <td>E-GOL</td>\n      <td>304</td>\n    </tr>\n    <tr>\n      <th>8</th>\n      <td>TESLA</td>\n      <td>X</td>\n      <td>255</td>\n    </tr>\n    <tr>\n      <th>9</th>\n      <td>KIA</td>\n      <td>NIRO</td>\n      <td>198</td>\n    </tr>\n  </tbody>\n</table>\n</div>"
     },
     "metadata": {},
     "output_type": "display_data"
    }
   ],
   "source": [
    "#gev = ev.groupby(by=['MARQ_VEH','MODEL_VEH','ANNEE_MOD', 'COUL_ORIG'])\n",
    "gev = ev.groupby(by=['MARQ_VEH','MODEL_VEH','ANNEE_MOD'])\n",
    "#gev = ev.groupby(by=['MARQ_VEH', 'MODEL_VEH', 'COUL_ORIG'])\n",
    "gev = ev.groupby(by=['MARQ_VEH','MODEL_VEH'])\n",
    "g = gev.size()\n",
    "top10 = g.nlargest(10).reset_index().rename(columns={0:'Quantité'})\n",
    "\n",
    "display(top10)"
   ],
   "metadata": {
    "collapsed": false
   }
  },
  {
   "cell_type": "code",
   "execution_count": 63,
   "outputs": [],
   "source": [
    "doc = Document()\n",
    "doc.add_heading('Données de la SAAQ', 0)\n",
    "\n",
    "doc.add_paragraph('Top 10 en 2021')\n",
    "t_df = top10\n",
    "\n",
    "# add a table to the end and create a reference variable\n",
    "# extra row is so we can add the header row\n",
    "t = doc.add_table(t_df.shape[0]+1, t_df.shape[1])\n",
    "#t.style = 'LightShading-Accent1'\n",
    "# add the header rows.\n",
    "for j in range(t_df.shape[-1]):\n",
    "    t.cell(0,j).text = str(t_df.columns[j])\n",
    "# add the rest of the data frame\n",
    "for i in range(t_df.shape[0]):\n",
    "    #print(i)\n",
    "    r = t_df.index[i]\n",
    "    for j in range(t_df.shape[-1]):\n",
    "        t.cell(i+1,j).text = str(t_df.values[i,j])\n",
    "\n",
    "# save the doc\n",
    "doc.save(Path(save_dir, 'top10_SAAQ_2021.docx'))"
   ],
   "metadata": {
    "collapsed": false
   }
  },
  {
   "cell_type": "code",
   "execution_count": null,
   "outputs": [],
   "source": [],
   "metadata": {
    "collapsed": false
   }
  }
 ],
 "metadata": {
  "kernelspec": {
   "display_name": "Python 3",
   "language": "python",
   "name": "python3"
  },
  "language_info": {
   "codemirror_mode": {
    "name": "ipython",
    "version": 2
   },
   "file_extension": ".py",
   "mimetype": "text/x-python",
   "name": "python",
   "nbconvert_exporter": "python",
   "pygments_lexer": "ipython2",
   "version": "2.7.6"
  }
 },
 "nbformat": 4,
 "nbformat_minor": 0
}
