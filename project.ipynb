{
 "cells": [
  {
   "cell_type": "code",
   "execution_count": 1,
   "outputs": [],
   "source": [
    "#!conda install -c conda-forge python-docx seaborn"
   ],
   "metadata": {
    "collapsed": false
   }
  },
  {
   "cell_type": "code",
   "execution_count": 2,
   "outputs": [],
   "source": [
    "%load_ext autoreload\n",
    "%aimport model\n",
    "%autoreload 2\n",
    "import pickle\n",
    "from pathlib import Path"
   ],
   "metadata": {
    "collapsed": false
   }
  },
  {
   "cell_type": "code",
   "execution_count": 3,
   "outputs": [],
   "source": [
    "import numpy as np\n",
    "import pandas as pd\n",
    "import seaborn as sns\n",
    "import matplotlib.pyplot as plt\n",
    "from IPython.display import display"
   ],
   "metadata": {
    "collapsed": false
   }
  },
  {
   "cell_type": "code",
   "execution_count": 4,
   "outputs": [
    {
     "name": "stdout",
     "output_type": "stream",
     "text": [
      "* system is: Darwin 64bit\n",
      "* Python version 3.9.13, located at: /opt/anaconda3/bin/python\n",
      "* docplex is present, version is 2.25.236\n",
      "* CPLEX library is present, version is 22.1.1.0, located at: /opt/anaconda3/lib/python3.9/site-packages\n",
      "* pandas is present, version is 1.4.4\n"
     ]
    }
   ],
   "source": [
    "from docplex.mp.environment import Environment\n",
    "from docplex.mp.constants import ObjectiveSense\n",
    "Environment().print_information()"
   ],
   "metadata": {
    "collapsed": false
   }
  },
  {
   "cell_type": "code",
   "execution_count": 5,
   "outputs": [],
   "source": [
    "from docplex.mp.conflict_refiner import ConflictRefiner\n",
    "from docplex.mp.relaxer import Relaxer"
   ],
   "metadata": {
    "collapsed": false
   }
  },
  {
   "cell_type": "code",
   "execution_count": 6,
   "outputs": [],
   "source": [
    "# redondant dans prepross_power\n",
    "def year_month_date_to_string(date):\n",
    "    return date.strftime('%Y%m')\n",
    "\n",
    "def datetime_attributes(df, column, attribute=['year', 'month', 'day', 'hour', 'dayofyear', 'quarter']):\n",
    "    # define generator expression of series, one for each attribute\n",
    "    date_gen = (getattr(df[column].dt, i).rename(i) for i in attribute)\n",
    "    return pd.concat(date_gen, axis=1)\n",
    "\n",
    "def datetime_isocalendar(df, column, attribute=['year','week', 'weekday']):\n",
    "    date_gen =  df.apply(lambda x: x[column].isocalendar(), axis=1, result_type='expand')\n",
    "    date_gen = date_gen.rename(columns= dict((i,j) for i,j in enumerate(attribute)))\n",
    "    date_gen['is_workday'] = date_gen['weekday'].apply(lambda  x: 1 if x<6 else 0)\n",
    "    #date_gen['workday'] =  1 if date_gen['weekday']<6 else 0\n",
    "    print(date_gen.head())\n",
    "    return date_gen"
   ],
   "metadata": {
    "collapsed": false
   }
  },
  {
   "cell_type": "code",
   "execution_count": 7,
   "outputs": [],
   "source": [
    "def generate_Si(dataf, start, stop,name):\n",
    "    d = pd.DataFrame(index=dataf.index)\n",
    "    for i, (b, e) in enumerate(zip(start,stop)):\n",
    "        ts = dataf.between_time(b, e)\n",
    "        n = name+str(i+1)\n",
    "        #try:\n",
    "        d.loc[dataf.index,n] = 0\n",
    "\n",
    "        #except:\n",
    "        #    pass\n",
    "        d.loc[ts.index,n] = np.where((ts['is_workday'] ==1), 1, 0)\n",
    "        #d.loc[ts.index,n] = np.where((ts['is_workday'] >=0), 1, 0)\n",
    "    return d.copy(True)"
   ],
   "metadata": {
    "collapsed": false
   }
  },
  {
   "cell_type": "code",
   "execution_count": 8,
   "outputs": [],
   "source": [
    "sns.set_style(\"whitegrid\")\n",
    "figure_size =[20,6]\n",
    "save_dir = 'media'"
   ],
   "metadata": {
    "collapsed": false
   }
  },
  {
   "cell_type": "code",
   "execution_count": 9,
   "outputs": [],
   "source": [
    "pd.set_option('display.max_rows', 500)\n",
    "pd.set_option('display.max_columns', 500)\n",
    "pd.set_option('display.width', 1000)\n",
    "invalid = '<>:\"/\\|?* '"
   ],
   "metadata": {
    "collapsed": false
   }
  },
  {
   "cell_type": "code",
   "execution_count": 10,
   "outputs": [
    {
     "name": "stdout",
     "output_type": "stream",
     "text": [
      "(69504, 16)\n",
      "[2015 2016]\n",
      "Index(['Timestamp', 'Power [kW]', 't', 'year', 'month', 'day', 'hour', 'dayofyear', 'quarter', 'week', 'weekday', 'is_workday', 'year_month', 'month_week', 'Power Clipped [kW]', 'is_peak'], dtype='object')\n",
      "12442.0 2442.0\n"
     ]
    }
   ],
   "source": [
    "filename = \"ConsommationUniversite.pickle\"\n",
    "df = pd.read_pickle(filename)\n",
    "print(df.shape)\n",
    "year = df['year'].unique()\n",
    "print(year)\n",
    "print(df.columns)\n",
    "print(max(df['Power [kW]']),max(df['Power Clipped [kW]']))"
   ],
   "metadata": {
    "collapsed": false
   }
  },
  {
   "cell_type": "code",
   "execution_count": 11,
   "outputs": [],
   "source": [
    "df['time'] = df.index"
   ],
   "metadata": {
    "collapsed": false
   }
  },
  {
   "cell_type": "markdown",
   "source": [
    "# <font color='blue'> Définition de la période d'étude </font>"
   ],
   "metadata": {
    "collapsed": false
   }
  },
  {
   "cell_type": "markdown",
   "source": [
    "Changer les valeurs de 'period_begin' et 'period_end' pour la période désirée.  Choisir la source (colonne) de puissance avec 'POWER_FOR_Pb' pour travailler."
   ],
   "metadata": {
    "collapsed": false
   }
  },
  {
   "cell_type": "code",
   "execution_count": 12,
   "outputs": [
    {
     "name": "stdout",
     "output_type": "stream",
     "text": [
      "(288,) (288, 4) (288,)\n",
      "maximum de Pb(t) :11334.0 avec T=288\n"
     ]
    }
   ],
   "source": [
    "period_begin = '2015-01-12'\n",
    "period_end = '2015-01-14'\n",
    "#period_end = '2015-12-31'\n",
    "\n",
    "#period_begin = '2015-01-01'\n",
    "#period_end = '2016-12-31'\n",
    "\n",
    "#an = df[df['year'] == year[0]]\n",
    "\n",
    "# 2015-09-09 12:14:00 2015-09-09 07:14:0\n",
    "\n",
    "Si_gen = generate_Si(df,\n",
    "                 start=['08:00', '10:00', '08:00', '13:00'],\n",
    "                 stop=['17:00', '15:00', '12:30', '20:00'],name='Si_')\n",
    "\n",
    "#Si_gen = generate_Si(df,\n",
    "#                 start=['07:30', '10:00', '08:00', '13:00'],\n",
    "#                 stop=['17:00', '15:00', '12:30', '20:30'],name='Si_')\n",
    "\n",
    "# Si_gen = generate_Si(df,\n",
    "#                  start=['08:00','08:00','08:00','08:00' ],\n",
    "#                  stop=['20:00','20:00','20:00','20:00'],name='Si_')\n",
    "#print(Si_gen)\n",
    "\n",
    "an = pd.concat([df, Si_gen], axis=1)\n",
    "#an = an[(an['week'] == 3) & (an['year'] == 2015)]\n",
    "\n",
    "\n",
    "POWER_FOR_Pb = 'Power [kW]'\n",
    "#POWER_FOR_Pb = 'Power Clipped [kW]'\n",
    "Pb = an[POWER_FOR_Pb].loc[period_begin:period_end]\n",
    "idx = Pb.index\n",
    "Pb = Pb.to_numpy(copy=True)\n",
    "Si = Si_gen.loc[period_begin:period_end]\n",
    "Si = Si.astype(float).to_numpy(copy=True)\n",
    "\n",
    "Si_tot = np.amax(Si, axis=1)\n",
    "\n",
    "#df2 = an.loc[period_begin:period_end]\n",
    "#df2 = an\n",
    "print(Pb.shape, Si.shape, Si_tot.shape)\n",
    "\n",
    "l = Pb.shape[0]\n",
    "print(\"maximum de Pb(t) :{m} avec T={t}\".format(m=max(Pb), t=l))\n",
    "\n",
    "arrivee = []\n",
    "depart = []\n",
    "for sign in Si.T:\n",
    "    # JUMP\n",
    "    thres = 0.5\n",
    "    si = sign\n",
    "    y = np.where(np.logical_and(si>-thres,si<thres), 0, 1) # ACTIVITY\n",
    "\n",
    "    der_y = np.diff(y)\n",
    "    higherPeaks = np.where(der_y>=1)[0]\n",
    "    lowerPeaks = np.where(der_y<=-1)[0]\n",
    "    arrivee.append(higherPeaks)\n",
    "    depart.append(lowerPeaks)\n",
    "    # plt.figure()\n",
    "    # plt.plot(si)\n",
    "    # plt.plot(higherPeaks, si[higherPeaks], 'ro')\n",
    "    # plt.plot(lowerPeaks, si[lowerPeaks], 'ko')"
   ],
   "metadata": {
    "collapsed": false
   }
  },
  {
   "cell_type": "code",
   "execution_count": 13,
   "outputs": [
    {
     "data": {
      "text/plain": "  (year_month, )  (Power Clipped [kW], max)  (Power [kW], max)  (year, max)  (month, max)  (day, nunique)       (day, idxmin)       (day, idxmax)  (t, min)  (t, max)\n0         201501                     1334.0            11334.0         2015             1               3 2015-01-12 00:14:00 2015-01-14 00:14:00       384       671",
      "text/html": "<div>\n<style scoped>\n    .dataframe tbody tr th:only-of-type {\n        vertical-align: middle;\n    }\n\n    .dataframe tbody tr th {\n        vertical-align: top;\n    }\n\n    .dataframe thead th {\n        text-align: right;\n    }\n</style>\n<table border=\"1\" class=\"dataframe\">\n  <thead>\n    <tr style=\"text-align: right;\">\n      <th></th>\n      <th>(year_month, )</th>\n      <th>(Power Clipped [kW], max)</th>\n      <th>(Power [kW], max)</th>\n      <th>(year, max)</th>\n      <th>(month, max)</th>\n      <th>(day, nunique)</th>\n      <th>(day, idxmin)</th>\n      <th>(day, idxmax)</th>\n      <th>(t, min)</th>\n      <th>(t, max)</th>\n    </tr>\n  </thead>\n  <tbody>\n    <tr>\n      <th>0</th>\n      <td>201501</td>\n      <td>1334.0</td>\n      <td>11334.0</td>\n      <td>2015</td>\n      <td>1</td>\n      <td>3</td>\n      <td>2015-01-12 00:14:00</td>\n      <td>2015-01-14 00:14:00</td>\n      <td>384</td>\n      <td>671</td>\n    </tr>\n  </tbody>\n</table>\n</div>"
     },
     "metadata": {},
     "output_type": "display_data"
    },
    {
     "name": "stdout",
     "output_type": "stream",
     "text": [
      "[11334.]\n",
      "[384]\n",
      "[671]\n"
     ]
    }
   ],
   "source": [
    "df_grp_ym = an.loc[period_begin:period_end].groupby(by='year_month').agg({'Power Clipped [kW]':'max', 'Power [kW]':'max','year':'max','month':'max','day':['nunique','idxmin','idxmax']\n",
    "                                              ,'t':['min','max']\n",
    "                                                   }).reset_index('year_month')\n",
    "df_grp_ym.columns = df_grp_ym.columns.to_flat_index()\n",
    "display(df_grp_ym)\n",
    "Pb_max__m = df_grp_ym[POWER_FOR_Pb,'max'].to_numpy(copy=True)\n",
    "\n",
    "t_min__m = df_grp_ym['t','min'].to_numpy(copy=True)\n",
    "t_max__m = df_grp_ym['t','max'].to_numpy(copy=True)\n",
    "print(Pb_max__m)\n",
    "print(t_min__m)\n",
    "print(t_max__m)"
   ],
   "metadata": {
    "collapsed": false
   }
  },
  {
   "cell_type": "markdown",
   "source": [
    "# <font color='blue'> Définition des Paramètres du modèle </font>"
   ],
   "metadata": {
    "collapsed": false
   }
  },
  {
   "cell_type": "code",
   "execution_count": 14,
   "outputs": [
    {
     "name": "stdout",
     "output_type": "stream",
     "text": [
      "Set problem parameters\n",
      "9 <= SOC <= 48\n"
     ]
    }
   ],
   "source": [
    "print('Set problem parameters')\n",
    "n_ev = 1600.0\n",
    "\n",
    "# Prius 4.4kWh, Leaf 24kWh\n",
    "soc_max = 48#0.8*24*n_ev\n",
    "soc_min = 9#0.2*4.4*n_ev\n",
    "print(\"{mi} <= SOC <= {ma}\".format(mi=soc_min, ma=soc_max))\n",
    "\n",
    "params = {\n",
    "    # Variables\tDescriptions\tUnités\n",
    "    'C__E': 0.003830, # Coût de l'énergie $/kW\n",
    "    'C__P': 14.677, # Coût de la puissance $/kW\n",
    "    'C__b_n': np.tile(np.array([[0.0196], [0.268]]),4), # Coût de l'infrastructure N $/delta_t\n",
    "    'SOCmin': soc_min,  # État de charge minimum des véhicules électriques\tkWh\n",
    "    'SOCmax': soc_max,  # État de charge maximum des véhicules électriques\tkWh\n",
    "    'SOCarrivee': 1.1*soc_min,  # État de charge minimum des véhicules électriques à l'arrivée\tkWh\n",
    "\n",
    "    'Pch_min': 0,#(4.4*(15/60)),  # Puissance de charge minimum \tkW\n",
    "    'Pdis_min': 0,#(4.4*(15/60)),  # Puissance de décharge minimum\tkW\n",
    "    'Pch_max_n': [10, 63], #[bn*7.5, bn*50.0],  # Puissance de charge maximum en utilisant les bornes de type n\tkW\n",
    "    'Pdis_max_n': [10, 63], #[bn*5.0, bn*40.0],  # Puissance de décharge maximum en utilisant les bornes de type n\tkW\n",
    "    'beta_ch': 0.93,  # Efficacité de charge_\n",
    "    # \t%\n",
    "    'beta_dis': 0.93,  # Efficacité de décharge\t%\n",
    "    'NEVs': n_ev,  # Nombre de véhicules électriques\tQté\n",
    "    'Rut': [0.42, 0.01, 0.19, 0.38],  # Ratio d’utilisateurs avec le profil i\t%\n",
    "    'delta_t': 15 / 60,  # 15mins\n",
    "    'MAX_OPTIM': 1e7,  # Facteur majorant du programme d'optimisation\n",
    "\n",
    "    'Pb': Pb,  # Puissance appelée par le bâtiment appelée à l’instant t\tkW\n",
    "    'Pb_max__m': Pb_max__m, # Puissance maximale du bâtiment par mois\n",
    "    'P_souscrite' : 10000, # Puissance souscrite avec Hydro-Québec\n",
    "    'Si': Si, #1, Si le profil d’utilisateur est raccordé à une borne à l’instant t\n",
    "\n",
    "    't_min__m': t_min__m, # indice du premier échantillon t du mois m\n",
    "    't_max__m': t_max__m, # indice du dernier échantillon t du mois m\n",
    "\n",
    "    'arrivee':arrivee, # indices des échantillons t d'arrivées sur la période T\n",
    "    'depart':depart, # indices des échantillons t de départ sur la période T\n",
    "}"
   ],
   "metadata": {
    "collapsed": false
   }
  },
  {
   "cell_type": "code",
   "execution_count": 15,
   "outputs": [
    {
     "name": "stdout",
     "output_type": "stream",
     "text": [
      "{'utilsateur': 4, 'borne': 2, 'instant': 288, 'mois': 1, 'I': range(1, 5), 'N': range(1, 3), 'T': range(0, 288), 'M': range(0, 1)}\n",
      "\n",
      "\n",
      "Model: V2B\n",
      " - number of variables: 12681\n",
      "   - binary=2592, integer=8, continuous=10081\n",
      " - number of constraints: 1440\n",
      "   - linear=288, quadratic=1152\n",
      " - parameters: defaults\n",
      " - objective: none\n",
      " - problem type is: MIQCP\n",
      "Version identifier: 22.1.1.0 | 2022-11-28 | 9160aff4d\n",
      "CPXPARAM_Read_DataCheck                          1\n",
      "CPLEX Error  5002: 'low_ctr_problem_constraint_Pch_i_t_rc_t__0' is not convex.\n",
      "Presolve time = 0.00 sec. (0.63 ticks)\n",
      "\n",
      "Root node processing (before b&c):\n",
      "  Real time             =    0.00 sec. (0.77 ticks)\n",
      "Parallel b&c, 12 threads:\n",
      "  Real time             =    0.00 sec. (0.00 ticks)\n",
      "  Sync time (average)   =    0.00 sec.\n",
      "  Wait time (average)   =    0.00 sec.\n",
      "                          ------------\n",
      "Total (root+branch&cut) =    0.00 sec. (0.77 ticks)\n",
      "Error: Model has non-convex quadratic constraint, name='low_ctr_problem_constraint_Pch_i_t_rc_t__0'\n"
     ]
    },
    {
     "ename": "AssertionError",
     "evalue": "!!! Solve of the model fails",
     "output_type": "error",
     "traceback": [
      "\u001B[0;31m---------------------------------------------------------------------------\u001B[0m",
      "\u001B[0;31mAssertionError\u001B[0m                            Traceback (most recent call last)",
      "Input \u001B[0;32mIn [15]\u001B[0m, in \u001B[0;36m<cell line: 57>\u001B[0;34m()\u001B[0m\n\u001B[1;32m     55\u001B[0m mdl\u001B[38;5;241m.\u001B[39mprint_information()\n\u001B[1;32m     56\u001B[0m solus \u001B[38;5;241m=\u001B[39m mdl\u001B[38;5;241m.\u001B[39msolve(log_output\u001B[38;5;241m=\u001B[39m\u001B[38;5;28;01mTrue\u001B[39;00m)\n\u001B[0;32m---> 57\u001B[0m \u001B[38;5;28;01massert\u001B[39;00m solus \u001B[38;5;129;01mis\u001B[39;00m \u001B[38;5;129;01mnot\u001B[39;00m \u001B[38;5;28;01mNone\u001B[39;00m, \u001B[38;5;124m\"\u001B[39m\u001B[38;5;124m!!! Solve of the model fails\u001B[39m\u001B[38;5;124m\"\u001B[39m\n\u001B[1;32m     58\u001B[0m \u001B[38;5;28mprint\u001B[39m(\u001B[38;5;124m\"\u001B[39m\u001B[38;5;124m*\u001B[39m\u001B[38;5;124m\"\u001B[39m\u001B[38;5;241m*\u001B[39m\u001B[38;5;241m50\u001B[39m)\n\u001B[1;32m     59\u001B[0m \u001B[38;5;28mprint\u001B[39m(\u001B[38;5;124m\"\u001B[39m\u001B[38;5;124mObj\u001B[39m\u001B[38;5;124m\"\u001B[39m, mdl\u001B[38;5;241m.\u001B[39msolution\u001B[38;5;241m.\u001B[39mget_objective_value())\n",
      "\u001B[0;31mAssertionError\u001B[0m: !!! Solve of the model fails"
     ]
    }
   ],
   "source": [
    "#%aimport model\n",
    "#more: https://ibmdecisionoptimization.github.io/docplex-doc/mp/docplex.mp.solution.html#docplex.mp.solution.SolveSolution\n",
    "mdl = model.ModelShaving('V2B', params=params)\n",
    "mdl.problem_variables()\n",
    "mdl.problem_constraints() # Contraintes de base sut SOC, Pch, Pdis, delta selon n,i,t\n",
    "mdl.cout_energie = mdl.problem_cout_energie()\n",
    "mdl.cout_puissance = mdl.problem_cout_puissance()\n",
    "mdl.cout_infrastructure = mdl.problem_cout_infrastructure()\n",
    "f_objective = mdl.cout_energie+mdl.cout_puissance+mdl.cout_infrastructure\n",
    "#mdl.minimize(f_objective)\n",
    "#mdl.minimize(mdl.cout_puissance)\n",
    "\n",
    "\n",
    "\n",
    "# TODO: mettre les problem_cout_... en vecteurs/retirer la dernière somme pour avoir min et max\n",
    "mdl.add_kpi(mdl.cout_energie, \"Cout Energie ($)\")\n",
    "mdl.add_kpi(mdl.cout_puissance, \"Cout Puissance ($)\")\n",
    "mdl.add_kpi(mdl.cout_infrastructure, \"Cout infrastructure ($)\")\n",
    "mdl.add_kpi(mdl.max(mdl.params['Pb_max__m']), \"max Puissance Pb_max[m] clipped (kW)\")\n",
    "mdl.add_kpi(mdl.max(mdl.Pr__t), \"max Puissance Preseau clipped (kW)\")\n",
    "\n",
    "\n",
    "#mdl.problem_constraint_SOC__n_i_t_arrivee()\n",
    "#mdl.problem_constraint_SOC__n_i_t_depart()\n",
    "\n",
    "#mdl.ctr_Pr__t = mdl.problem_constraint_Pr__t()\n",
    "#mdl.problem_constraint_SOC__v2_n_i_t()\n",
    "\n",
    "#mdl.problem_constraint_Pch_total__t()\n",
    "#mdl.problem_constraint_Pdis_total__t()\n",
    "#mdl.problem_constraint_Pr_t__max__m()\n",
    "\n",
    "#mdl.problem_constraint_prevent_simultaneous_charge_and_discharge_i_t()\n",
    "#mdl.problem_constraint_Pr_t__threshold__m()\n",
    "\n",
    "\n",
    "#mdl.problem_constraint_Rborne__n_i()\n",
    "mdl.problem_constraint_Pch_total__t_rc()\n",
    "mdl.problem_constraint_Pch_i_t_rc()\n",
    "\n",
    "#mdl.problem_constraint_SOC__n_i_t_arrivee_depart()\n",
    "#mdl.problem_constraint_uc_connexion_deconnection() # actuellement non utilisé (remplacé par arrivee , depart )\n",
    "#mdl.problem_constraint_SOC__n_i_t() # Bloque les autres, mais sans delta delta_ch/dis__n_i_t\n",
    "#mdl.problem_constraint_Pr__n_i_t()\n",
    "\n",
    "# ceci est nouveau\n",
    "#mdl.problem_constraint_uc_soc_ramp_up_and_soc_ramp_down() # autre façon pour le SOC mais sans ch & desch\n",
    "#mdl.problem_constraint_SOC__n_i_t_latch_on() # Le faire pour charge/discharge ?!\n",
    "\n",
    "#self.Rborne__n_i = np.array([[32,\t1,\t10,\t19],[11,\t1,\t10,\t19]])\n",
    "\n",
    "\n",
    "\n",
    "print('\\n')\n",
    "mdl.print_information()\n",
    "solus = mdl.solve(log_output=True)\n",
    "assert solus is not None, \"!!! Solve of the model fails\"\n",
    "print(\"*\"*50)\n",
    "print(\"Obj\", mdl.solution.get_objective_value())\n",
    "#mdl.print_solution(print_zeros=False)"
   ],
   "metadata": {
    "collapsed": false
   }
  },
  {
   "cell_type": "code",
   "execution_count": null,
   "outputs": [],
   "source": [
    "print(\"-\"*50)\n",
    "mdl.report()\n",
    "print(\"-\"*50)\n",
    "print('end')\n",
    "#with open('solution.pickle', mode='wb') as f:\n",
    "#    pickle.dump(solus, f)\n",
    "#filename = Path(save_dir,'solution.json')\n",
    "#with open('solution.json', mode='wb') as f:\n",
    "#    solus.export(f,format='json')\n",
    "\n",
    "cr = ConflictRefiner()\n",
    "crr = cr.refine_conflict(mdl, display=True)\n",
    "print(\"=\"*50)\n",
    "rx = Relaxer()\n",
    "rs = rx.relax(mdl)\n",
    "rx.print_information()\n",
    "#rs.display()\n",
    "print(\"+\"*50)"
   ],
   "metadata": {
    "collapsed": false
   }
  },
  {
   "cell_type": "code",
   "execution_count": null,
   "outputs": [],
   "source": [
    "#df_Rborne__n_i = mdl.var_dict_as_df(solution=solus, var_dict=mdl.Rborne__n_i,\n",
    "#                                 index='i', columns='n')\n",
    "#print(df_Rborne__n_i)"
   ],
   "metadata": {
    "collapsed": false
   }
  },
  {
   "cell_type": "markdown",
   "source": [
    "Setting constraint priorities explicitly is the most basic way to control relaxation, but there are others. A _function_ can be used: the relaxer will call the function for each constraint to determine its priority. Possible values are:\n",
    "\n",
    "  - relaxable priorities: VERY_LOW, LOW, MEDIUM, HIGH, VERY_HIGH\n",
    "  - non-relaxable priority: MANDATORY\n",
    "\n",
    "Constraints with higher priority are less likely to be relaxed than constraints with lower priorities. Still, relaxation of a high-priority constraint cannot be ruled out, if it is the only way to provide a relaxed solution."
   ],
   "metadata": {
    "collapsed": false
   }
  },
  {
   "cell_type": "code",
   "execution_count": null,
   "outputs": [],
   "source": [
    "dk = pd.DataFrame({'Pb batiment': mdl.params['Pb'],\n",
    "                   'Pr reseau': solus.get_value_list(mdl.Pr__t),\n",
    "                   'P charge totale': solus.get_value_list(mdl.Pch_tot__t),\n",
    "                   'P décharge totale': solus.get_value_list(mdl.Pdis_tot__t),\n",
    "                   'Si': Si_tot,\n",
    "                   #'t':idx\n",
    "                   }\n",
    "                  ).set_index(idx)\n",
    "#dk.to_csv('resultats.csv')"
   ],
   "metadata": {
    "collapsed": false
   }
  },
  {
   "cell_type": "code",
   "execution_count": null,
   "outputs": [],
   "source": [
    "title = \"Répartition des Puissances [kW] en fonction de l'ensemble des connections Si\"\n",
    "sns.set_style(\"whitegrid\")\n",
    "fig, ax = plt.subplots(figsize=figure_size, sharex=True)\n",
    "fig1 = ax.get_figure()\n",
    "g = dk.plot(figsize=figure_size,subplots=True, ax=ax, sharex=True)\n",
    "for i in g:\n",
    "    i.legend(loc='upper left')\n",
    "g[0].set_title(title)\n",
    "g[-1].set_xlabel('temps [(Y)-M-J H]')\n",
    "#for char in invalid:\n",
    "#\tfilename = title.replace(char, '_')+'.png'\n",
    "filename = Path(save_dir,title+'.png')\n",
    "\n",
    "plt.show()\n",
    "\n",
    "fig1.savefig(filename, format='png', dpi=200, bbox_inches='tight')"
   ],
   "metadata": {
    "collapsed": false
   }
  },
  {
   "cell_type": "code",
   "execution_count": null,
   "outputs": [],
   "source": [
    "title = 'Puissances [kW] et moments de connection'\n",
    "en = pd.DataFrame(mdl.params['Si'], columns=['Si_1', 'Si_2','Si_3','Si_4'])\n",
    "en['t'] = idx\n",
    "sns.set_style(\"whitegrid\")\n",
    "\n",
    "fig, axs = plt.subplots(nrows=7, figsize=figure_size, sharex=True,\n",
    "                        gridspec_kw={'height_ratios': [2.0, 1.5, 0.5, 0.25, 0.25, 0.25, 0.25]})\n",
    "\n",
    "g = sns.lineplot(x=dk.index, y='Pr reseau', estimator='max', data=dk,  ax=axs[0], color='tab:orange')\n",
    "ax2 = g.twinx()\n",
    "h = sns.lineplot(x=dk.index, y='Pb batiment', estimator='max', data=dk, ax=ax2, color='tab:green',dashes=True)\n",
    "g = sns.lineplot(x=dk.index, y='P décharge totale', estimator='max', data=dk,  ax=axs[1], color='tab:purple', dashes=True)\n",
    "ax2 = g.twinx()\n",
    "h = sns.lineplot(x=dk.index, y='P charge totale', estimator='max', data=dk, ax=ax2, color='tab:pink', dashes=True)\n",
    "#g.set_yticklabels(g.get_yticklabels(), rotation=45)\n",
    "#h.set_yticklabels(h.get_yticklabels(), rotation=45)\n",
    "\n",
    "#g.tick_params(axis='y', labelrotation = 45)\n",
    "\n",
    "what = 't'\n",
    "g = sns.lineplot(x=dk.index, y='Si', estimator='max', data=dk, ax=axs[2], drawstyle=\"steps\", color=\"tab:olive\")\n",
    "g = sns.lineplot(x=what, y='Si_1', estimator='max', data=en, ax=axs[3], drawstyle=\"steps\")\n",
    "g = sns.lineplot(x=what, y='Si_2', estimator='max', data=en, ax=axs[4], drawstyle=\"steps\")\n",
    "g = sns.lineplot(x=what, y='Si_3', estimator='max', data=en, ax=axs[5], drawstyle=\"steps\")\n",
    "g = sns.lineplot(x=what, y='Si_4', estimator='max', data=en, ax=axs[6], drawstyle=\"steps\")\n",
    "axs[6].set_xlabel('temps [(Y)-M-J H]')\n",
    "for a in range(3, 7):\n",
    "    axs[a].set_yticks([0, 1])\n",
    "\n",
    "for char in invalid:\n",
    "\tfilename = title.replace(char, '_')+'.png'\n",
    "filename = Path(save_dir,filename)\n",
    "\n",
    "axs[0].title.set_text(title)\n",
    "plt.show()\n",
    "fig.savefig(filename, format='png', dpi=200, bbox_inches='tight')\n"
   ],
   "metadata": {
    "collapsed": false
   }
  },
  {
   "cell_type": "code",
   "execution_count": null,
   "outputs": [],
   "source": [
    "text = 'Puissance Maximale  avant (sans V2B): {b}kW , après (avec V2B): {r}kW '.format(b=dk['Pb batiment'].max(), r=dk['Pr reseau'].max() )\n",
    "\n",
    "idb_max = dk['Pb batiment'].idxmax()\n",
    "idr_max = dk['Pr reseau'].idxmax()\n",
    "print(idb_max, idr_max)\n",
    "# 2015-09-09 12:14:00 2015-09-09 07:14:0     :: Mercredi\n",
    "\n",
    "title = \"Pb (sans V2G) vs Pr (avec V2G) selon les profils d'utilisateurs (Si)\"\n",
    "en = pd.DataFrame(mdl.params['Si'], columns=['Si_1', 'Si_2','Si_3','Si_4'])\n",
    "en['t'] = idx\n",
    "sns.set_style(\"whitegrid\")\n",
    "\n",
    "fig, axs = plt.subplots(nrows=6, ncols=1, figsize=(15,10), sharex=True, gridspec_kw={'height_ratios': [2, 0.5,0.25, 0.25, 0.25, 0.25]})\n",
    "g = sns.lineplot(data=dk[['Pr reseau','Pb batiment']],  ax=axs[0], palette=['b','r'])\n",
    "axs[0].text(dk.index[0], dk['Pb batiment'][idb_max], text, fontsize=9)\n",
    "axs[0].set_ylabel('Puissance [kW]')\n",
    "g = sns.lineplot(x=dk.index, y='Si', estimator='max', data=dk, ax=axs[1], drawstyle=\"steps\", color='tab:olive')\n",
    "g = sns.lineplot(x=what, y='Si_1', estimator='max', data=en, ax=axs[2], drawstyle=\"steps\")\n",
    "g = sns.lineplot(x=what, y='Si_2', estimator='max', data=en, ax=axs[3], drawstyle=\"steps\")\n",
    "g = sns.lineplot(x=what, y='Si_3', estimator='max', data=en, ax=axs[4], drawstyle=\"steps\")\n",
    "g = sns.lineplot(x=what, y='Si_4', estimator='max', data=en, ax=axs[5], drawstyle=\"steps\")\n",
    "axs[5].set_xlabel('temps [(Y)-M-J H]')\n",
    "for a in range(1,6):\n",
    "    axs[a].set_yticks([0, 1])\n",
    "for char in invalid:\n",
    "\tfilename = title.replace(char, '_')+'.png'\n",
    "filename = Path(save_dir,filename)\n",
    "\n",
    "axs[0].title.set_text(title)\n",
    "plt.show()\n",
    "fig.savefig(filename, format='png', dpi=200, bbox_inches='tight')\n",
    "\n",
    "\n",
    "print(text)"
   ],
   "metadata": {
    "collapsed": false
   }
  },
  {
   "cell_type": "code",
   "execution_count": null,
   "outputs": [],
   "source": [
    "df_Pch__i_t = mdl.var_dict_as_df(solution=solus, var_dict=mdl.Pch__i_t,\n",
    "                                 index='t', columns='i', prefix='Pch__i_t__')\n",
    "df_Pdis__i_t = mdl.var_dict_as_df(solution=solus, var_dict=mdl.Pdis__i_t,\n",
    "                                 index='t', columns='i', prefix='Pdis__i_t__')\n",
    "df_SOC__n_i_t = mdl.var_dict_as_df(solution=solus, var_dict=mdl.SOC__n_i_t, index='t', columns=['n', 'i'])\n",
    "#print(df_Pch__i_t)\n",
    "#print(df_Pdis__i_t)\n",
    "#df_SOC__n_i_t.rename(mapper=lambda x: f'N_{x}', axis='columns', level=0, inplace=True)\n",
    "#df_SOC__n_i_t.rename(mapper=lambda x: f'I_{x}', axis='columns', level=1, inplace=True)\n",
    "#print(df_SOC__n_i_t)"
   ],
   "metadata": {
    "collapsed": false
   }
  },
  {
   "cell_type": "code",
   "execution_count": null,
   "outputs": [],
   "source": [
    "# Error Bands + valeur maximale des mois\n",
    "title = \"État de charge des batteries [kWh] (Énergie): SOC(n,i,t)\"\n",
    "what= 't'\n",
    "#sns.set_theme(style=\"ticks\")\n",
    "sns.set_theme(style=\"darkgrid\",palette='Set2')\n",
    "\n",
    "fig, axs = plt.subplots(nrows=4, figsize=figure_size, sharex=True)\n",
    "g = sns.lineplot(x=what, y=(1,1), estimator='max', data=df_SOC__n_i_t,  ax=axs[0],color='tab:blue')\n",
    "g.set(ylim=(0, None))\n",
    "ax2 = g.twinx()\n",
    "h = sns.lineplot(x=what, y=(2,1), estimator='max', data=df_SOC__n_i_t, ax=ax2)\n",
    "h.set(ylim=(0, None))\n",
    "g = sns.lineplot(x=what, y=(1,2), estimator='max', data=df_SOC__n_i_t, ax=axs[1],color='tab:blue')\n",
    "ax2 = g.twinx()\n",
    "h = sns.lineplot(x=what, y=(2,2), estimator='max', data=df_SOC__n_i_t, ax=ax2)\n",
    "g.set(ylim=(0, None))\n",
    "h.set(ylim=(0, None))\n",
    "g = sns.lineplot(x=what, y=(1,3), estimator='max', data=df_SOC__n_i_t, ax=axs[2],color='tab:blue')\n",
    "ax2 = g.twinx()\n",
    "h = sns.lineplot(x=what, y=(2,3), estimator='max', data=df_SOC__n_i_t, ax=ax2)\n",
    "g.set(ylim=(0, None))\n",
    "h.set(ylim=(0, None))\n",
    "g = sns.lineplot(x=what, y=(1,4), estimator='max', data=df_SOC__n_i_t, ax=axs[3],color='tab:blue')\n",
    "ax2 = g.twinx()\n",
    "h = sns.lineplot(x=what, y=(2,4), estimator='max', data=df_SOC__n_i_t, ax=ax2)\n",
    "g.set(ylim=(0, None))\n",
    "h.set(ylim=(0, None))\n",
    "\n",
    "for char in invalid:\n",
    "\tfilename = title.replace(char, '_')+'.png'\n",
    "filename = Path(save_dir,filename)\n",
    "\n",
    "axs[0].title.set_text(title)\n",
    "plt.show()\n",
    "fig.savefig(filename, format='png', dpi=200, bbox_inches='tight')\n"
   ],
   "metadata": {
    "collapsed": false
   }
  },
  {
   "cell_type": "code",
   "execution_count": null,
   "outputs": [],
   "source": [
    "df_var = mdl.var_dict_as_df(solution=solus, var_dict=mdl.Pdis__n_i_t, index='t', columns=['n', 'i'])\n",
    "g = df_var.plot(figsize=figure_size,subplots=True, drawstyle=\"steps\", linewidth=2)\n",
    "g[0].set_title('Puissances de décharge [kW] : Pdis(n,i,t)')\n",
    "for i in g:\n",
    "    i.legend(loc='upper left')\n",
    "print(df_var.max())"
   ],
   "metadata": {
    "collapsed": false
   }
  },
  {
   "cell_type": "code",
   "execution_count": null,
   "outputs": [],
   "source": [
    "df_var = mdl.var_dict_as_df(solution=solus, var_dict=mdl.Pch__n_i_t, index='t', columns=['n', 'i'])\n",
    "g = df_var.plot(figsize=figure_size,subplots=True, drawstyle=\"steps\", linewidth=2)\n",
    "g[0].set_title('Puissances de charge [kW] : Pch(n,i,t)')\n",
    "for i in g:\n",
    "    i.legend(loc='upper left')\n",
    "print(df_var.max())"
   ],
   "metadata": {
    "collapsed": false
   }
  },
  {
   "cell_type": "code",
   "execution_count": null,
   "outputs": [],
   "source": [
    "peak_label = 'is_peak'\n",
    "above_threshold_label = 'is_above_threshold_label'\n",
    "timestamp = 'Timestamp'\n",
    "res = dk.copy(True)\n",
    "print(res.shape)\n",
    "res[timestamp] = res.index\n",
    "res[peak_label] = np.where(res['Pb batiment']>=10000, 1,0)\n",
    "res[above_threshold_label] = np.where(res['Pr reseau']>=10000, 1,0)\n",
    "\n",
    "df_time = datetime_attributes(res,column=timestamp)\n",
    "df_iso = datetime_isocalendar(res,column=timestamp)\n",
    "dfk = pd.concat([res, df_time, df_iso[['week','weekday','is_workday']]],axis=1)\n",
    "dfk['year_month'] = year_month_date_to_string(dfk.index)\n",
    "dfk['month_week'] = 100*dfk['month']+dfk['week']\n",
    "\n",
    "\n",
    "rep_heure_avant= (15/60) * pd.crosstab(dfk.year, dfk.month, aggfunc='sum', values=dfk[peak_label], normalize=False)\n",
    "rep_heure_apres= (15/60) * pd.crosstab(dfk.year, dfk.month, aggfunc='sum', values=dfk[above_threshold_label], normalize=False)\n",
    "\n",
    "rep_heure_avant['V2B'] = 'Avant'\n",
    "rep_heure_avant = rep_heure_avant.set_index('V2B', append=True)\n",
    "rep_heure_apres['V2B'] = 'Apres'\n",
    "rep_heure_apres = rep_heure_apres.set_index('V2B', append=True)\n",
    "rep_heure = pd.concat([rep_heure_avant, rep_heure_apres])\n",
    "#display(rep_heure)\n",
    "\n",
    "rep_heure = rep_heure.sort_index(ascending=False)\n",
    "display(rep_heure)"
   ],
   "metadata": {
    "collapsed": false
   }
  },
  {
   "cell_type": "code",
   "execution_count": null,
   "outputs": [],
   "source": [
    "title = \"Répartition annuelle des temps de pics V2B [h]\"\n",
    "rep_heure = rep_heure.astype(int)\n",
    "g = sns.heatmap(rep_heure,cmap=\"YlOrRd\", annot=True, cbar=True, fmt='.0f')\n",
    "g.set_yticklabels(g.get_yticklabels(), rotation=45)\n",
    "\n",
    "for char in invalid:\n",
    "\tfilename = title.replace(char, '_')+'.png'\n",
    "filename = Path(save_dir,filename)\n",
    "\n",
    "axs[0].title.set_text(title)\n",
    "plt.title(title)\n",
    "plt.show()\n",
    "fig.savefig(filename, format='png', dpi=300, bbox_inches='tight')"
   ],
   "metadata": {
    "collapsed": false
   }
  },
  {
   "cell_type": "code",
   "execution_count": null,
   "outputs": [],
   "source": [
    "rep_perc_avant= (100) * pd.crosstab(dfk.year, dfk.month, aggfunc='sum', values=dfk[peak_label], normalize=True)\n",
    "rep_perc_apres= (100) * pd.crosstab(dfk.year, dfk.month, aggfunc='sum', values=dfk[above_threshold_label], normalize=True)"
   ],
   "metadata": {
    "collapsed": false
   }
  },
  {
   "cell_type": "code",
   "execution_count": null,
   "outputs": [],
   "source": [
    "from docx import Document\n",
    "\n",
    "def doc_table(doc, tab):\n",
    "    # add a table to the end and create a reference variable\n",
    "    # extra row is so we can add the header row\n",
    "    t = doc.add_table(tab.shape[0]+1, tab.shape[1]+1)\n",
    "    #t.style = 'LightShading-Accent1'\n",
    "    # add the header rows.\n",
    "    t.cell(0,0).text = 'index'\n",
    "    for j in range(tab.shape[-1]):\n",
    "        t.cell(0,j+1).text = str(tab.columns[j])\n",
    "    # add the rest of the data frame\n",
    "    for i in range(tab.shape[0]):\n",
    "        print(i)\n",
    "        r = tab.index[i]\n",
    "        t.cell(i+1,0).text = str(r)\n",
    "        for j in range(tab.shape[-1]):\n",
    "            t.cell(i+1,j+1).text = str(tab.values[i,j])"
   ],
   "metadata": {
    "collapsed": false
   }
  },
  {
   "cell_type": "code",
   "execution_count": null,
   "outputs": [],
   "source": [
    "doc = Document()\n",
    "doc.add_heading('Résumé des informations du problème', 0)\n",
    "\n",
    "p = doc.add_paragraph('Rborne[n,i]')\n",
    "t_df = pd.DataFrame(mdl.Rborne__n_i)\n",
    "doc_table(doc=doc, tab=t_df)\n",
    "p = doc.add_paragraph('')\n",
    "#run = p.add_run()\n",
    "#run.add_break()\n",
    "doc.add_paragraph('répartition annuelle avant V2B ')\n",
    "t_rows = rep_perc_avant.round(decimals=1)\n",
    "doc_table(doc=doc, tab=t_rows)\n",
    "p = doc.add_paragraph('')\n",
    "doc.add_paragraph('répartition annuelle après V2B ')\n",
    "t_rows = rep_perc_apres.round(decimals=1)\n",
    "doc_table(doc=doc, tab=t_rows)\n",
    "p = doc.add_paragraph('')\n",
    "\n",
    "#run.add_break(WD_BREAK.PAGE)\n",
    "doc.add_paragraph('répartition annuelle des temps de pics avant V2B [h]')\n",
    "t_rows = rep_heure_avant.round(decimals=0).astype(int)\n",
    "doc_table(doc=doc, tab=t_rows)\n",
    "p = doc.add_paragraph('')\n",
    "\n",
    "doc.add_paragraph('répartition annuelle des temps de pics après V2B [h]')\n",
    "t_rows = rep_heure_apres.round(decimals=0).astype(int)\n",
    "doc_table(doc=doc, tab=t_rows)\n",
    "p = doc.add_paragraph('')\n",
    "\n",
    "\n",
    "# save the doc\n",
    "doc.save(Path(save_dir, 'tables.docx'))"
   ],
   "metadata": {
    "collapsed": false
   }
  },
  {
   "cell_type": "markdown",
   "source": [
    "## END OF MAIN"
   ],
   "metadata": {
    "collapsed": false
   }
  },
  {
   "cell_type": "markdown",
   "source": [],
   "metadata": {
    "collapsed": false
   }
  },
  {
   "cell_type": "markdown",
   "source": [
    "## TROUBLESHOOTING"
   ],
   "metadata": {
    "collapsed": false
   }
  },
  {
   "cell_type": "code",
   "execution_count": null,
   "outputs": [],
   "source": [
    "df_var = mdl.var_dict_as_df(solution=solus, var_dict=mdl.delta_ch__i_t, index='t', columns=['i'])\n",
    "g = df_var.plot(figsize=figure_size,subplots=True, drawstyle=\"steps\", linewidth=2)\n",
    "g[0].set_title('moments de charge : delta_ch[i,t]')\n",
    "print(df_var.max())\n",
    "for a in g:\n",
    "    a.set_yticks([0, 1])\n",
    "df_var = mdl.var_dict_as_df(solution=solus, var_dict=mdl.delta_dis__i_t, index='t', columns=['i'])\n",
    "g = df_var.plot(figsize=figure_size,subplots=True, drawstyle=\"steps\", linewidth=2)\n",
    "g[0].set_title('moments de décharge : delta_dis[i,t]')\n",
    "for a in g:\n",
    "    a.set_yticks([0, 1])\n",
    "print(df_var.max())\n"
   ],
   "metadata": {
    "collapsed": false
   }
  },
  {
   "cell_type": "code",
   "execution_count": null,
   "outputs": [],
   "source": [],
   "metadata": {
    "collapsed": false
   }
  },
  {
   "cell_type": "code",
   "execution_count": null,
   "outputs": [],
   "source": [],
   "metadata": {
    "collapsed": false
   }
  }
 ],
 "metadata": {
  "kernelspec": {
   "display_name": "Python 3",
   "language": "python",
   "name": "python3"
  },
  "language_info": {
   "codemirror_mode": {
    "name": "ipython",
    "version": 2
   },
   "file_extension": ".py",
   "mimetype": "text/x-python",
   "name": "python",
   "nbconvert_exporter": "python",
   "pygments_lexer": "ipython2",
   "version": "2.7.6"
  }
 },
 "nbformat": 4,
 "nbformat_minor": 0
}
